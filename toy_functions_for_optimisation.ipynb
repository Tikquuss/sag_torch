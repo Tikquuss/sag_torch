{
  "nbformat": 4,
  "nbformat_minor": 0,
  "metadata": {
    "colab": {
      "provenance": []
    },
    "kernelspec": {
      "name": "python3",
      "display_name": "Python 3"
    },
    "language_info": {
      "name": "python"
    }
  },
  "cells": [
    {
      "cell_type": "markdown",
      "source": [],
      "metadata": {
        "id": "61lb8KcqnUUp"
      }
    },
    {
      "cell_type": "code",
      "source": [
        "import torch\n",
        "import numpy as np\n",
        "import matplotlib.pyplot as plt\n",
        "from matplotlib import cm\n",
        "\n",
        "import warnings\n",
        "warnings.filterwarnings('ignore')\n",
        "\n",
        "from IPython.display import clear_output\n",
        "\n",
        "#device = torch.device('cuda' if torch.cuda.is_available() else 'cpu')\n",
        "device = torch.device('cpu')"
      ],
      "metadata": {
        "id": "Vi_JMvrvnW5v"
      },
      "execution_count": null,
      "outputs": []
    },
    {
      "cell_type": "code",
      "source": [
        "# Animated plot\n",
        "import plotly\n",
        "import plotly.graph_objs as go"
      ],
      "metadata": {
        "id": "IAJZ-jWUnVRX"
      },
      "execution_count": null,
      "outputs": []
    },
    {
      "cell_type": "code",
      "source": [
        "# to put directly the labels on each curve\n",
        "#! pip install matplotlib-label-lines\n",
        "from labellines import labelLine, labelLines"
      ],
      "metadata": {
        "id": "UJc9B309mwnm"
      },
      "execution_count": null,
      "outputs": []
    },
    {
      "cell_type": "code",
      "source": [
        "# https://github.com/Tikquuss/sag_torch\n",
        "from src.optim import get_optimizer"
      ],
      "metadata": {
        "id": "fedEP_X5mzJQ"
      },
      "execution_count": null,
      "outputs": []
    },
    {
      "cell_type": "markdown",
      "source": [
        "## Utils"
      ],
      "metadata": {
        "id": "c8VbfiJZnG3R"
      }
    },
    {
      "cell_type": "code",
      "source": [
        "def gradient(y, x, grad_outputs=None):\n",
        "    \"\"\"Compute dy/dx @ grad_outputs\"\"\"\n",
        "    if grad_outputs is None:\n",
        "        grad_outputs = torch.ones_like(y)\n",
        "    \"\"\"    \n",
        "    else :\n",
        "        a = grad_outputs.shape == y[0].shape\n",
        "        assert a or grad_outputs.shape == y.shape\n",
        "        if a :\n",
        "             grad_outputs = grad_outputs.repeat(y.shape[0], 1, 1)\n",
        "    \"\"\"\n",
        "    grad = torch.autograd.grad(y, [x], grad_outputs=grad_outputs, create_graph=True)[0]\n",
        "    return grad\n",
        "\n",
        "def jacobian(y, x):\n",
        "    \"\"\"Compute dy/dx = dy/dx @ grad_outputs; \n",
        "    for grad_outputs in [1, 0, ..., 0], [0, 1, 0, ..., 0], ...., [0, ..., 0, 1]\"\"\"\n",
        "    m, n = y.shape[0], x.shape[0]\n",
        "    jac = torch.zeros(m, n) \n",
        "    for i in range(m):\n",
        "        grad_outputs = torch.zeros_like(y)\n",
        "        grad_outputs[i] = 1\n",
        "        jac[i] = gradient(y, x, grad_outputs = grad_outputs)\n",
        "    return jac"
      ],
      "metadata": {
        "id": "RdRhBTWjnY2A"
      },
      "execution_count": null,
      "outputs": []
    },
    {
      "cell_type": "markdown",
      "source": [
        "https://www.sfu.ca/~ssurjano/rosen.html"
      ],
      "metadata": {
        "id": "WbMVYfDzHrZl"
      }
    },
    {
      "cell_type": "code",
      "source": [
        "def RosenbrockFunction(x):    \n",
        "    return sum([100 * (x[i+1] - x[i]**2)**2 + (x[i] - 1)**2 for  i in range(len(x)-1)])\n",
        "    #return (100 * (x[1:] - x[:-1]**2)**2 + (x[:-1] - 1)**2).sum()\n",
        "\n",
        "def RosenbrockFunction_log(x):\n",
        "    try :\n",
        "        return torch.log(RosenbrockFunction(x) + 1e-8)\n",
        "    except TypeError: #  argument 'input' (position 1) must be Tensor, not numpy.float64\n",
        "        return np.log(RosenbrockFunction(x) + 1e-8)\n",
        "    \n",
        "def RosenbrockDeriv(index):\n",
        "    def f(x):\n",
        "        dz = 0\n",
        "        if index > 0: dz += 200 * (x[index] - x[index-1]**2)\n",
        "        if index < len(x) - 1: dz += -400 * x[index] * (x[index+1] - x[index]**2) + 2 * (x[index] - 1)\n",
        "        return dz\n",
        "\n",
        "    return f\n",
        "\n",
        "def RosenbrockDeriv_log(index):\n",
        "    deriv = RosenbrockDeriv(index)\n",
        "    def f(x): return deriv(x) / (RosenbrockFunction(x) + 1e-8)\n",
        "    return f"
      ],
      "metadata": {
        "id": "nF_ndOMt-GwY"
      },
      "execution_count": null,
      "outputs": []
    },
    {
      "cell_type": "code",
      "source": [
        "def RastriginFunction(x, A = 10):\n",
        "    n = len(x)\n",
        "    try :\n",
        "        return A*n + sum( x**2 - A * np.cos(2*np.pi*x) ) \n",
        "    except RuntimeError :\n",
        "        return A*n + sum( x**2 - A * torch.cos(2*np.pi*x) ) \n",
        "\n",
        "def RastriginFunction_log(x, A = 10):\n",
        "    try :\n",
        "        return torch.log(RastriginFunction(x, A = A) + 1e-8)\n",
        "    except TypeError: #  argument 'input' (position 1) must be Tensor, not numpy.float64\n",
        "        return np.log(RastriginFunction(x, A = A) + 1e-8)\n",
        "    \n",
        "def RastriginDeriv(index, A = 10):\n",
        "    def f(x):\n",
        "        return 2 * x[index] + 2*np.pi*A*np.sin(2*np.pi*x[index])\n",
        "    return f\n",
        "\n",
        "def RastriginDeriv_log(index, A = 10):\n",
        "    deriv = RastriginDeriv(index)\n",
        "    def f(x): return deriv(x) / (RastriginFunction(x, A = A) + 1e-8)\n",
        "    return f"
      ],
      "metadata": {
        "id": "p_OZVr-9bbO3"
      },
      "execution_count": null,
      "outputs": []
    },
    {
      "cell_type": "code",
      "source": [
        "def get_data(\n",
        "    function, deriv_function,\n",
        "    min_x = -5, max_x = 5, step_x = 0.25, \n",
        "    min_y = -5, max_y = 5, step_y = 0.25\n",
        ") :\n",
        "    x = np.arange(start = min_x, stop = max_x, step = step_x, dtype = np.float)\n",
        "    y = np.arange(start = min_y, stop = max_y, step = step_y, dtype = np.float)\n",
        "    x, y = np.meshgrid(x, y)\n",
        "    X = []\n",
        "    for i in range(len(x)):\n",
        "        for j in range(len(x[0])):\n",
        "            X.append([x[i][j], y[i][j]])\n",
        "    X = np.array(X)\n",
        "\n",
        "    # function\n",
        "    z = []\n",
        "    for k in range(len(X)): z.append(function(X[k]))\n",
        "    z = np.array(z).reshape((len(x), len(x[0])))\n",
        "\n",
        "    # deriv\n",
        "    dz = []\n",
        "    grad1 = deriv_function(index = 0)\n",
        "    grad2 = deriv_function(index = 1)\n",
        "    for k in range(len(X)): dz.append([grad1(X[k]), grad2(X[k])])\n",
        "    dz = np.array(dz)\n",
        "    dz = np.array(dz).reshape((len(x), len(x[0]), 2))\n",
        "\n",
        "    return x, y, z, dz"
      ],
      "metadata": {
        "id": "1Q3loOzCrUC0"
      },
      "execution_count": null,
      "outputs": []
    },
    {
      "cell_type": "code",
      "source": [
        "def plotFunction(name, x, y, z, figsize = (8,8), plot_contours = True) :\n",
        "        \n",
        "    fig = plt.figure(figsize = figsize)\n",
        "    #ax = fig.gca(projection='3d')\n",
        "    ax = plt.axes(projection='3d')\n",
        "    plt.title(name)\n",
        "    surf = ax.plot_surface(x, y, z, cmap=cm.coolwarm)\n",
        "    ax.set(xlabel='x', ylabel='y', zlabel='z')\n",
        "\n",
        "    fig.colorbar(surf, shrink=0.5, aspect=5)\n",
        "\n",
        "    plt.show()\n",
        "    \n",
        "    if plot_contours :\n",
        "        fig = plt.figure(figsize = figsize)\n",
        "        ax = plt.axes()\n",
        "        vmin, vmax, vlevel = 0.1, 10, 0.5\n",
        "        CS = ax.contourf(x, y, z, cmap=cm.coolwarm, levels=np.arange(vmin, vmax, vlevel))\n",
        "        ax.set(xlabel='x', ylabel='y')\n",
        "        #plt.clabel(CS, inline=1, fontsize=8)\n",
        "        plt.title(name + \", contours\")\n",
        "        plt.show()\n",
        "\n",
        "def plotGrad(name, x, y, dz, figsize = (8,8)):\n",
        "    fig = plt.figure(figsize = figsize)\n",
        "    plt.title(name)\n",
        "    dz_ = plt.quiver(x, y, dz[:, :, 0], dz[:, :, 1])\n",
        "    plt.show()"
      ],
      "metadata": {
        "id": "taexuKkMnUhZ"
      },
      "execution_count": null,
      "outputs": []
    },
    {
      "cell_type": "markdown",
      "source": [
        "## Data"
      ],
      "metadata": {
        "id": "Wf-X7Z-mnMN4"
      }
    },
    {
      "cell_type": "code",
      "source": [
        "log_scale = True\n",
        "\n",
        "#function_name = \"Rosenbrock Function\"\n",
        "function_name = \"Rastrigin Function\""
      ],
      "metadata": {
        "id": "HCOIwe7tVMHo"
      },
      "execution_count": null,
      "outputs": []
    },
    {
      "cell_type": "code",
      "source": [
        "grad_name = \"Gradient Field of %s\" % function_name\n",
        "\n",
        "if log_scale :\n",
        "    if \"Rosenbrock\" in function_name :\n",
        "        callable_function = RosenbrockFunction_log\n",
        "        callable_function_deriv = RosenbrockDeriv_log\n",
        "    elif \"Rastrigin\" in function_name :\n",
        "        callable_function = RastriginFunction_log\n",
        "        callable_function_deriv = RastriginDeriv_log\n",
        "\n",
        "    function_name = function_name + ' (log)'\n",
        "    grad_name = grad_name + ' (log)'\n",
        "else :\n",
        "    if \"Rosenbrock\" in function_name :\n",
        "        callable_function = RosenbrockFunction\n",
        "        callable_function_deriv = RosenbrockDeriv\n",
        "    elif \"Rastrigin\" in function_name :\n",
        "        callable_function = RastriginFunction\n",
        "        callable_function_deriv = RastriginDeriv"
      ],
      "metadata": {
        "id": "AFfZ6l4RJ44z"
      },
      "execution_count": null,
      "outputs": []
    },
    {
      "cell_type": "code",
      "source": [
        "if \"Rosenbrock\" in function_name :\n",
        "    #(min_x, max_x), (min_y, max_y) = (-1.5, 1.5), (-0.5, 1.5)\n",
        "    (min_x, max_x), (min_y, max_y) = (-4, 4), (-2, 10)\n",
        "\n",
        "    #step_x, step_y = 0.25, 0.25\n",
        "    step_x, step_y = 0.05, 0.05\n",
        "elif \"Rastrigin\" in function_name :\n",
        "    (min_x, max_x), (min_y, max_y) = (-5, 5), (-5, 5)\n",
        "    step_x, step_y = 0.05, 0.05\n",
        "\n",
        "x, y, z, dz = get_data(\n",
        "    callable_function, callable_function_deriv,\n",
        "    min_x = min_x, max_x = max_x, step_x = step_x, \n",
        "    min_y = min_y, max_y = max_y, step_y = step_y\n",
        ")"
      ],
      "metadata": {
        "id": "VDFOyFGXoCYK"
      },
      "execution_count": null,
      "outputs": []
    },
    {
      "cell_type": "code",
      "source": [
        "# figsize = (2*8,8)\n",
        "\n",
        "# plotFunction(function_name, x, y, z, figsize = figsize, plot_contours=True)\n",
        "# # # tmp = z - z.min()\n",
        "# # # tmp = tmp / tmp.sum()\n",
        "# # # plotFunction(function_name, x, y, tmp)\n",
        "\n",
        "# #plotGrad(grad_name, x, y, dz, figsize = (2*3,4))\n",
        "# plotGrad(\"\", x, y, dz, figsize = (2*3,4))"
      ],
      "metadata": {
        "id": "bqiY4MLYrmTU"
      },
      "execution_count": null,
      "outputs": []
    },
    {
      "cell_type": "code",
      "source": [
        "lb = 3\n",
        "if lb == 1 :\n",
        "    L, C = 1, 1\n",
        "else : \n",
        "    #C = 2\n",
        "    C = 3\n",
        "    L = lb // C + lb % C\n",
        "\n",
        "figsize=(C*6, L*4)\n",
        "\n",
        "fig = plt.figure(figsize=figsize)\n",
        "\n",
        "i = 1\n",
        "position = int(f\"{L}{C}{i}\")\n",
        "ax = fig.add_subplot(position, projection='3d')\n",
        "#surf = ax.plot_surface(x, y, z, cmap=plt.get_cmap('gist_earth'))\n",
        "surf = ax.plot_surface(x, y, z, cmap=cm.coolwarm)\n",
        "#fig.colorbar(surf, ax=ax, shrink=0.5, aspect=5)\n",
        "#cb = plt.colorbar(surf, ax=[ax], shrink=0.5, aspect=5, location='left')\n",
        "#ax.set_title(function_name)\n",
        "ax.set(xlabel='x', ylabel='y', zlabel='z')\n",
        "\n",
        "a = [1]\n",
        "b = [1]\n",
        "z_ = callable_function(np.array([1, 1]))\n",
        "\n",
        "if \"Rosenbrock\" in function_name :\n",
        "    ax.plot(a, b, z_, '-gD', markersize=10)\n",
        "    #ax.text(a[0], b[0], z_,'min')\n",
        "      \n",
        "plot_contours = True\n",
        "if plot_contours :\n",
        "    i += 1  \n",
        "    position = int(f\"{L}{C}{i}\")\n",
        "    ax = fig.add_subplot(position)\n",
        "    vmin, vmax, vlevel = 0.1, 10, 0.5\n",
        "    CS = ax.contourf(x, y, z, cmap=cm.coolwarm, levels=np.arange(vmin, vmax, vlevel))\n",
        "    ax.set(xlabel='x', ylabel='y')\n",
        "\n",
        "    if \"Rosenbrock\" in function_name :\n",
        "        ax.plot(a, b, '-gD', markersize=10)\n",
        "        #ax.text(a[0], b[0],'min')\n",
        "        #plt.title(function_name + \", contours\")\n",
        "\n",
        "\n",
        "i += 1  \n",
        "position = int(f\"{L}{C}{i}\")\n",
        "ax = fig.add_subplot(position)\n",
        "dz_ = ax.quiver(x, y, dz[:, :, 0], dz[:, :, 1])\n",
        "    \n",
        "plt.show()"
      ],
      "metadata": {
        "id": "wv9sLs_5xu5N"
      },
      "execution_count": null,
      "outputs": []
    },
    {
      "cell_type": "markdown",
      "source": [
        "https://plotly.com/python/3d-surface-plots/"
      ],
      "metadata": {
        "id": "9lBZ7lTtZjXN"
      }
    },
    {
      "cell_type": "code",
      "source": [
        "fig = go.Figure(data=[go.Surface(z=z, x=x, y=y)])\n",
        "\n",
        "fig.update_traces(contours_z=dict(show=True, usecolormap=True,\n",
        "                                  highlightcolor=\"limegreen\", project_z=True))\n",
        "\n",
        "fig.update_layout(\n",
        "    title= function_name, \n",
        "    autosize=False,\n",
        "    scene_camera_eye=dict(x=1.87, y=0.88, z=-0.64),\n",
        "    width=500, height=500,\n",
        "    margin=dict(l=65, r=50, b=65, t=90)\n",
        ")\n",
        "\n",
        "# fig.update_layout(\n",
        "#             title=\"title\",\n",
        "#             xaxis_title=\"xaxis_title\",\n",
        "            \n",
        "#             autosize=False,\n",
        "\n",
        "#             #yaxis_title=\"Y Axis Title\",\n",
        "#             #legend_title=\"Legend Title\",\n",
        "#             font=dict(\n",
        "#                 family=\"Courier New, monospace\",\n",
        "#                 size=18,\n",
        "#                 color=\"RebeccaPurple\"\n",
        "#             )\n",
        "#         )\n",
        "\n",
        "fig.show()"
      ],
      "metadata": {
        "id": "PDd1oJLc8CZx"
      },
      "execution_count": null,
      "outputs": []
    },
    {
      "cell_type": "markdown",
      "source": [
        "## Training"
      ],
      "metadata": {
        "id": "sGa51WtsPSla"
      }
    },
    {
      "cell_type": "code",
      "source": [
        "d = 2"
      ],
      "metadata": {
        "id": "6vgy3JhJPUf2"
      },
      "execution_count": null,
      "outputs": []
    },
    {
      "cell_type": "code",
      "source": [
        "def init_train(optim_name):\n",
        "    \n",
        "    if \"Rosenbrock\" in function_name :\n",
        "        x_optim = torch.ones(d).to(device)\n",
        "\n",
        "        #x_hat = torch.randn(d, requires_grad=True, dtype=torch.float, device=device) \n",
        "        #x_hat = torch.tensor([0, 8], requires_grad=True, dtype=torch.float, device=device)\n",
        "        #x_hat = torch.tensor([-3, 8], requires_grad=True, dtype=torch.float, device=device)\n",
        "        x_hat = torch.tensor([-3, 6], requires_grad=True, dtype=torch.float, device=device)\n",
        "    elif \"Rastrigin\" in function_name :\n",
        "        #x_optim = torch.ones(d) * 0.05\n",
        "        x_optim = torch.zeros(d).to(device)\n",
        "\n",
        "        x_hat = torch.tensor([-4, 2], requires_grad=True, dtype=torch.float, device=device)\n",
        "\n",
        "    \n",
        "    params = [{'params':[x_hat], 'lr':lr}]\n",
        "    v = all_optims[optim_name] + f\",lr={lr}\"\n",
        "    if \"sag\" in k : v += \",n=1,m=1\"\n",
        "    optimizer = get_optimizer(params,  v)\n",
        "\n",
        "    return x_optim, x_hat, optimizer"
      ],
      "metadata": {
        "id": "prcXqsyGNYib"
      },
      "execution_count": null,
      "outputs": []
    },
    {
      "cell_type": "code",
      "source": [
        "def train(n_epochs, callable_function, optim_name):\n",
        "    \n",
        "    x_optim, x_hat, optimizer = init_train(optim_name)\n",
        "\n",
        "    error = ((x_hat - x_optim)**2).sum().sqrt().item()\n",
        "\n",
        "    all_x = [x_hat.detach() + 0.0]\n",
        "    all_z = []\n",
        "    all_errors = [error]\n",
        "\n",
        "    for epoch in range(n_epochs):\n",
        "        z_ = callable_function(x_hat)\n",
        "        \n",
        "        #z_.backward()\n",
        "        #with torch.no_grad() : x_hat -= lr * x_hat.grad \n",
        "        #x_hat.grad.zero_()\n",
        "\n",
        "        optimizer.zero_grad()\n",
        "        z_.backward()\n",
        "        \n",
        "        try :\n",
        "            optimizer.step()\n",
        "        except TypeError :\n",
        "            batch_idx, indexes = 0, torch.LongTensor([0]) \n",
        "            optimizer.step(batch_idx=batch_idx, indexes=indexes)               \n",
        "               \n",
        "        error = ((x_hat - x_optim)**2).sum().sqrt().item()\n",
        "\n",
        "        all_x.append(x_hat.detach() + 0.0)\n",
        "        all_z.append(z_.detach() + 0.0)\n",
        "        all_errors.append(error)\n",
        "\n",
        "        if epoch%1000 == 0 : print(epoch, error)\n",
        "        #if epoch%1000 == 0 : clear_output(wait=True)\n",
        "\n",
        "        # if error < 0.00001 : \n",
        "        #     print('break', epoch)\n",
        "        #     break\n",
        "\n",
        "    all_z.append(callable_function(x_hat).detach() + 0.0)\n",
        "\n",
        "    return all_x, all_z, all_errors"
      ],
      "metadata": {
        "id": "HliB4VNONeHd"
      },
      "execution_count": null,
      "outputs": []
    },
    {
      "cell_type": "code",
      "source": [
        "lr = 0.001\n",
        "weight_decay = 1.0\n",
        "# sgd\n",
        "momentum= 0.9\n",
        "# adam\n",
        "beta1=0.9\n",
        "beta2=0.99\n",
        "# sag\n",
        "with_d=True\n",
        "batch_mode=False\n",
        "init_y_i=False"
      ],
      "metadata": {
        "id": "Qvi8tKeEJoo2"
      },
      "execution_count": null,
      "outputs": []
    },
    {
      "cell_type": "code",
      "source": [
        "all_optims = {\n",
        "\"sgd\" : f\"sgd,momentum=0,dampening=0,weight_decay={weight_decay},nesterov=False\",\n",
        "\"momentum\" : f\"sgd,momentum={momentum},dampening=0.9,weight_decay={weight_decay},nesterov=False\",\n",
        "\"nesterov\" : f\"sgd,momentum={momentum},dampening=0,weight_decay={weight_decay},nesterov=True\",\n",
        "\"asgd\" : f\"asgd,lambd=0.0001,alpha=0.75,t0=1000000.0,weight_decay={weight_decay}\",\n",
        "\"rmsprop\" : f\"rmsprop,alpha=0.99,weight_decay={weight_decay},momentum=0,centered=False\",\n",
        "\"rmsprop_mom\" : f\"rmsprop,alpha=0.99,weight_decay={weight_decay},momentum={momentum},centered=False\",\n",
        "\"rprop\" : f\"rprop,etaplus=0.5,etaminus=1.2,step_min=1e-06,step_max=50\",\n",
        "\"adadelta\" : f\"adadelta,rho=0.9,weight_decay={weight_decay}\", \n",
        "\"adagrad\" : f\"adagrad,lr_decay=0,weight_decay={weight_decay},initial_accumulator_value=0\", \n",
        "\"adam\" : f\"adam,weight_decay={weight_decay},beta1={beta1},beta2={beta2},amsgrad=False\",\n",
        "\"amsgrad\" : f\"adam,weight_decay={weight_decay},beta1={beta1},beta2={beta2},amsgrad=True\",\n",
        " \"adamax\" : f\"adamax,weight_decay={weight_decay},beta1={beta1},beta2={beta2}\",\n",
        "\"custom_adam\" : f\"custom_adam,weight_decay={weight_decay},beta1={beta1},beta2={beta2}\",\n",
        "\"adam_inverse_sqrt\" : f\"adam_inverse_sqrt,weight_decay={weight_decay},beta1={beta1},beta2={beta2},warmup_updates=4000,warmup_init_lr=1e-7,exp_factor=0.5\",\n",
        "\"adam_cosine\" : f\"adam_cosine,weight_decay={weight_decay},beta1={beta1},beta2={beta2},warmup_updates=4000,warmup_init_lr=1e-7,min_lr=1e-9,init_period=1000000,period_mult=1,lr_shrink=0.75\",\n",
        "\"sag\" : f\"sag,weight_decay={weight_decay},batch_mode={batch_mode},init_y_i={init_y_i},with_d={with_d}\",\n",
        "\"sag_sgd\" : f\"sag_sgd,weight_decay={weight_decay},batch_mode={batch_mode},init_y_i={init_y_i},with_d={with_d},momentum={momentum},dampening=0.9,weight_decay={weight_decay},nesterov=False\",\n",
        "\"sag_adam\" : f\"sag_adam,weight_decay={weight_decay},batch_mode={batch_mode},init_y_i={init_y_i},with_d={with_d},beta1={beta1},beta2={beta2}\",\n",
        "}"
      ],
      "metadata": {
        "id": "zUyx57HX34ED"
      },
      "execution_count": null,
      "outputs": []
    },
    {
      "cell_type": "code",
      "source": [
        "# group for resenbrok\n",
        "all_optims = {\n",
        "  \"adadelta\" : f\"adadelta,rho=0.9,weight_decay={weight_decay}\", # bad\n",
        "  \"adagrad\" : f\"adagrad,lr_decay=0,weight_decay={weight_decay},initial_accumulator_value=0\", # bad\n",
        "  \"sag\" : f\"sag,weight_decay={weight_decay},batch_mode={batch_mode},init_y_i={init_y_i},with_d={with_d}\",\n",
        "}\n",
        "\n",
        "all_optims = {\n",
        "\"momentum\" : f\"sgd,momentum={momentum},dampening=0.9,weight_decay={weight_decay},nesterov=False\",\n",
        "\"nesterov\" : f\"sgd,momentum={momentum},dampening=0,weight_decay={weight_decay},nesterov=True\",\n",
        "\"asgd\" : f\"asgd,lambd=0.0001,alpha=0.75,t0=1000000.0,weight_decay={weight_decay}\",\n",
        "\"sag\" : f\"sag,weight_decay={weight_decay},batch_mode={batch_mode},init_y_i={init_y_i},with_d={with_d}\",\n",
        "\"sag_sgd\" : f\"sag_sgd,weight_decay={weight_decay},batch_mode={batch_mode},init_y_i={init_y_i},with_d={with_d},momentum={momentum},dampening=0.9,weight_decay={weight_decay},nesterov=False\",\n",
        "}\n",
        "\n",
        "all_optims = {\n",
        "\"rmsprop\" : f\"rmsprop,alpha=0.99,weight_decay={weight_decay},momentum=0,centered=False\",\n",
        "\"rmsprop_mom\" : f\"rmsprop,alpha=0.99,weight_decay={weight_decay},momentum={momentum},centered=False\",\n",
        "\"rprop\" : f\"rprop,etaplus=0.5,etaminus=1.2,step_min=1e-06,step_max=50\",\n",
        "\"sag\" : f\"sag,weight_decay={weight_decay},batch_mode={batch_mode},init_y_i={init_y_i},with_d={with_d}\",\n",
        "\"sag_sgd\" : f\"sag_sgd,weight_decay={weight_decay},batch_mode={batch_mode},init_y_i={init_y_i},with_d={with_d},momentum={momentum},dampening=0.9,weight_decay={weight_decay},nesterov=False\",\n",
        "}\n",
        "\n",
        "all_optims = {\n",
        "\"adam\" : f\"adam,weight_decay={weight_decay},beta1={beta1},beta2={beta2},amsgrad=False\",\n",
        "\"amsgrad\" : f\"adam,weight_decay={weight_decay},beta1={beta1},beta2={beta2},amsgrad=True\",\n",
        "\"adamax\" : f\"adamax,weight_decay={weight_decay},beta1={beta1},beta2={beta2}\",\n",
        "\"sag\" : f\"sag,weight_decay={weight_decay},batch_mode={batch_mode},init_y_i={init_y_i},with_d={with_d}\",\n",
        "\"sag_adam\" : f\"sag_adam,weight_decay={weight_decay},batch_mode={batch_mode},init_y_i={init_y_i},with_d={with_d},beta1={beta1},beta2={beta2}\",\n",
        "}\n",
        "\n",
        "all_optims = {\n",
        "\"adam\" : f\"adam,weight_decay={weight_decay},beta1={beta1},beta2={beta2},amsgrad=False\",\n",
        "\"custom_adam\" : f\"custom_adam,weight_decay={weight_decay},beta1={beta1},beta2={beta2}\",\n",
        "\"adam_inverse_sqrt\" : f\"adam_inverse_sqrt,weight_decay={weight_decay},beta1={beta1},beta2={beta2},warmup_updates=4000,warmup_init_lr=1e-7,exp_factor=0.5\",\n",
        "\"adam_cosine\" : f\"adam_cosine,weight_decay={weight_decay},beta1={beta1},beta2={beta2},warmup_updates=4000,warmup_init_lr=1e-7,min_lr=1e-9,init_period=1000000,period_mult=1,lr_shrink=0.75\",\n",
        "\"sag\" : f\"sag,weight_decay={weight_decay},batch_mode={batch_mode},init_y_i={init_y_i},with_d={with_d}\",\n",
        "\"sag_adam\" : f\"sag_adam,weight_decay={weight_decay},batch_mode={batch_mode},init_y_i={init_y_i},with_d={with_d},beta1={beta1},beta2={beta2}\",\n",
        "}"
      ],
      "metadata": {
        "id": "RGIa4Xk2VCxs"
      },
      "execution_count": null,
      "outputs": []
    },
    {
      "cell_type": "code",
      "source": [
        "# group for rastragin\n",
        "all_optims = {\n",
        "  \"adadelta\" : f\"adadelta,rho=0.9,weight_decay={weight_decay}\", \n",
        "  \"adagrad\" : f\"adagrad,lr_decay=0,weight_decay={weight_decay},initial_accumulator_value=0\", \n",
        "  \"rprop\" : f\"rprop,etaplus=0.5,etaminus=1.2,step_min=1e-06,step_max=50\", \n",
        "  \"sag\" : f\"sag,weight_decay={weight_decay},batch_mode={batch_mode},init_y_i={init_y_i},with_d={with_d}\", \n",
        "}\n",
        "\n",
        "all_optims = {\n",
        "\"momentum\" : f\"sgd,momentum={momentum},dampening=0.9,weight_decay={weight_decay},nesterov=False\",\n",
        "\"nesterov\" : f\"sgd,momentum={momentum},dampening=0,weight_decay={weight_decay},nesterov=True\",\n",
        "\"asgd\" : f\"asgd,lambd=0.0001,alpha=0.75,t0=1000000.0,weight_decay={weight_decay}\",\n",
        "\"sag\" : f\"sag,weight_decay={weight_decay},batch_mode={batch_mode},init_y_i={init_y_i},with_d={with_d}\",\n",
        "\"sag_sgd\" : f\"sag_sgd,weight_decay={weight_decay},batch_mode={batch_mode},init_y_i={init_y_i},with_d={with_d},momentum={momentum},dampening=0.9,weight_decay={weight_decay},nesterov=False\",\n",
        "}\n",
        "\n",
        "all_optims = {\n",
        "\"rmsprop\" : f\"rmsprop,alpha=0.99,weight_decay={weight_decay},momentum=0,centered=False\",\n",
        "\"rmsprop_mom\" : f\"rmsprop,alpha=0.99,weight_decay={weight_decay},momentum={momentum},centered=False\",\n",
        "\"sag\" : f\"sag,weight_decay={weight_decay},batch_mode={batch_mode},init_y_i={init_y_i},with_d={with_d}\",\n",
        "\"sag_sgd\" : f\"sag_sgd,weight_decay={weight_decay},batch_mode={batch_mode},init_y_i={init_y_i},with_d={with_d},momentum={momentum},dampening=0.9,weight_decay={weight_decay},nesterov=False\",\n",
        "}\n",
        "\n",
        "all_optims = {\n",
        "\"adam\" : f\"adam,weight_decay={weight_decay},beta1={beta1},beta2={beta2},amsgrad=False\",\n",
        "\"amsgrad\" : f\"adam,weight_decay={weight_decay},beta1={beta1},beta2={beta2},amsgrad=True\",\n",
        "\"adamax\" : f\"adamax,weight_decay={weight_decay},beta1={beta1},beta2={beta2}\",\n",
        "\"sag\" : f\"sag,weight_decay={weight_decay},batch_mode={batch_mode},init_y_i={init_y_i},with_d={with_d}\",\n",
        "\"sag_adam\" : f\"sag_adam,weight_decay={weight_decay},batch_mode={batch_mode},init_y_i={init_y_i},with_d={with_d},beta1={beta1},beta2={beta2}\",\n",
        "}\n",
        "\n",
        "all_optims = {\n",
        "\"adam\" : f\"adam,weight_decay={weight_decay},beta1={beta1},beta2={beta2},amsgrad=False\",\n",
        "\"custom_adam\" : f\"custom_adam,weight_decay={weight_decay},beta1={beta1},beta2={beta2}\",\n",
        "\"adam_inverse_sqrt\" : f\"adam_inverse_sqrt,weight_decay={weight_decay},beta1={beta1},beta2={beta2},warmup_updates=4000,warmup_init_lr=1e-7,exp_factor=0.5\",\n",
        "\"adam_cosine\" : f\"adam_cosine,weight_decay={weight_decay},beta1={beta1},beta2={beta2},warmup_updates=4000,warmup_init_lr=1e-7,min_lr=1e-9,init_period=1000000,period_mult=1,lr_shrink=0.75\",\n",
        "\"sag\" : f\"sag,weight_decay={weight_decay},batch_mode={batch_mode},init_y_i={init_y_i},with_d={with_d}\",\n",
        "\"sag_adam\" : f\"sag_adam,weight_decay={weight_decay},batch_mode={batch_mode},init_y_i={init_y_i},with_d={with_d},beta1={beta1},beta2={beta2}\",\n",
        "}"
      ],
      "metadata": {
        "id": "aSYtojhCZ37_"
      },
      "execution_count": null,
      "outputs": []
    },
    {
      "cell_type": "code",
      "source": [
        "#n_epochs = 100000\n",
        "#n_epochs = 50000\n",
        "n_epochs = 10000  #+ 5000\n",
        "#n_epochs = 4000 \n",
        "#n_epochs = 100 \n",
        "#n_epochs = 20\n",
        "\n",
        "results = {}\n",
        "\n",
        "for k, v  in all_optims.items() :\n",
        "    print(\"============\")\n",
        "    print(k, v)\n",
        "    all_x, all_z, all_errors = train(n_epochs, callable_function, optim_name=k)\n",
        "    results[k] = [all_x, all_z, all_errors]\n",
        "    print(\"============\")"
      ],
      "metadata": {
        "id": "Xhk3gtsChGA5"
      },
      "execution_count": null,
      "outputs": []
    },
    {
      "cell_type": "code",
      "source": [
        "figsize=(4*3,4*2)\n",
        "fig, ax = plt.subplots(1, 1, sharex=False, sharey=False, figsize = figsize)\n",
        "#fig.suptitle(\"suptitle\")\n",
        "\n",
        "p = None \n",
        "#p = 2000 \n",
        "\n",
        "for k in all_optims.keys() :\n",
        "    if 'sag' in k : continue\n",
        "    all_errors = results[k][2]\n",
        "    xs = list(range(len(all_errors[:p])))\n",
        "    ax.plot(xs, all_errors[:p], label=k)\n",
        "    ax.set(xlabel='epochs', ylabel='error')\n",
        "\n",
        "# #ax.set_title('title')\n",
        "ax.legend()\n",
        "\n",
        "_ = labelLines(ax.get_lines(), zorder=2.5, fontsize=14, align=True)"
      ],
      "metadata": {
        "id": "TXhV9wYpRH62"
      },
      "execution_count": null,
      "outputs": []
    },
    {
      "cell_type": "code",
      "source": [
        "for k  in all_optims.keys() :\n",
        "    all_errors = results[k][2]\n",
        "    print(k, min(all_errors))"
      ],
      "metadata": {
        "id": "J6_ukig94wpP"
      },
      "execution_count": null,
      "outputs": []
    },
    {
      "cell_type": "markdown",
      "source": [],
      "metadata": {
        "id": "L7kQvBzLdvqV"
      }
    },
    {
      "cell_type": "code",
      "source": [
        "INF = 1000000000\n",
        "if \"Rosenbrock\" in function_name :\n",
        "    # error\n",
        "    tmp_errors = {\n",
        "    \"sgd\" : 0.53,\n",
        "    \"momentum\" : 0.15,\n",
        "    \"nesterov\" : 0.55, \n",
        "    \"asgd\" : 0.50,\n",
        "    \"rmsprop\" : 0.00, \n",
        "    \"rmsprop_mom\" : 0.01,\n",
        "    \"rprop\" : 0.00, \n",
        "    \"adadelta\" : 0.00, \n",
        "    \"adagrad\" : 5.00,\n",
        "    \"adam\" : 0.00, \n",
        "    \"amsgrad\" : 0.00, \n",
        "    \"adamax\" : 0.00,\n",
        "    \"custom_adam\" : 0.06, \n",
        "    \"adam_inv_sqrt\" : 0.05,\n",
        "    \"adam_cos\" : 0.06,\n",
        "    \"sag\" : 0.50,\n",
        "    \"sag_sgd\" : 0.17,\n",
        "    \"sag_adam\" : 0.06,\n",
        "    }\n",
        "    # speeds\n",
        "    tmp_speeds = {\n",
        "    \"sgd\" : 2800,\n",
        "    \"momentum\" : 2800,\n",
        "    \"nesterov\" : 250, \n",
        "    \"asgd\" : 2800,\n",
        "    \"rmsprop\" : 9000, \n",
        "    \"rmsprop_mom\" : 700,\n",
        "    \"rprop\" : 1400, \n",
        "    \"adadelta\" : 125000, \n",
        "    \"adagrad\" : INF,\n",
        "    \"adam\" : 7500, \n",
        "    \"amsgrad\" : 25000, \n",
        "    \"adamax\" : 8000,\n",
        "    \"custom_adam\" : 4000, \n",
        "    \"adam_inv_sqrt\" : 6000,\n",
        "    \"adam_cos\" : 6000,\n",
        "    \"sag\" : 2800,\n",
        "    \"sag_sgd\" : 2000,\n",
        "    \"sag_adam\" : 4000,\n",
        "    }\n",
        "elif \"Rastrigin\" in function_name :\n",
        "    # error\n",
        "    tmp_errors = {\n",
        "    \"sgd\" : 2.7469568252563477,\n",
        "    \"momentum\" : 2.7258849143981934,\n",
        "    \"nesterov\" : 2.6344261169433594, \n",
        "    \"asgd\" :  2.7469568252563477,\n",
        "    \"rmsprop\" : 3.0466601848602295, \n",
        "    \"rmsprop_mom\" : 2.8889172077178955,\n",
        "    \"rprop\" : 4.448424339294434, \n",
        "    \"adadelta\" : 3.047818660736084, \n",
        "    \"adagrad\" : 3.0598108768463135,\n",
        "    \"adam\" : 3.047726631164551, \n",
        "    \"amsgrad\" : 3.0049257278442383, \n",
        "    \"adamax\" : 3.047726631164551,\n",
        "    \"custom_adam\" : 1.3765685558319092, \n",
        "    \"adam_inv_sqrt\" : 1.378799557685852,\n",
        "    \"adam_cos\" : 1.378799557685852,\n",
        "    \"sag\" : 2.746980667114258,\n",
        "    \"sag_sgd\" : 2.1404078006744385,\n",
        "    \"sag_adam\" : 1.3765685558319092,\n",
        "    }\n",
        "    # speeds\n",
        "    tmp_speeds = {\n",
        "    \"sgd\" : 1250, #\n",
        "    \"momentum\" : 1200, #\n",
        "    \"nesterov\" : 100, # \n",
        "    \"asgd\" : 1250, #\n",
        "    \"rmsprop\" : 1200, # \n",
        "    \"rmsprop_mom\" : 150, #\n",
        "    \"rprop\" : 10, #\n",
        "    \"adadelta\" : 25000, #\n",
        "    \"adagrad\" : 400000, #\n",
        "    \"adam\" : 1250, #\n",
        "    \"amsgrad\" : 2500, # \n",
        "    \"adamax\" : 1250, #\n",
        "    \"custom_adam\" : 1500, # \n",
        "    \"adam_inv_sqrt\" : 3500, #\n",
        "    \"adam_cos\" : 3500, #\n",
        "    \"sag\" : 1250, #\n",
        "    \"sag_sgd\" : 375, #\n",
        "    \"sag_adam\" : 1500, #\n",
        "    }"
      ],
      "metadata": {
        "id": "5VbBCk5hZNX5"
      },
      "execution_count": null,
      "outputs": []
    },
    {
      "cell_type": "code",
      "source": [
        "# errors\n",
        "tmp = {k: round(v, 1) for k, v in sorted(tmp_errors.items(), key=lambda item: item[1])}\n",
        "\n",
        "methods = list(tmp.keys())\n",
        "speed = list(tmp.values())\n",
        "\n",
        "loc = np.arange(len(methods)) # the label locations\n",
        "width = 0.35 # the width of the bars\n",
        "\n",
        "#fig, ax = plt.subplots()\n",
        "figsize=(4*6,4*2)\n",
        "fig, ax = plt.subplots(1, 1, sharex=False, sharey=False, figsize = figsize)\n",
        "\n",
        "ax.set_ylabel('final errors at steady states')\n",
        "#ax.set_title('optimizers')\n",
        "ax.set_xticks(loc)\n",
        "ax.set_xticklabels(methods)\n",
        "pps = ax.bar(loc - width / 2, speed, width, label='')\n",
        "for p in pps:\n",
        "    height = p.get_height()\n",
        "    s = \"{}\".format(height)\n",
        "    if \"Rosenbrock\" in function_name :\n",
        "        if height > 1.0 : s = \"∞\" \n",
        "    elif \"Rastrigin\" in function_name :\n",
        "        if height > 1.0 : pass #s = \"∞\" \n",
        "    ax.text(x=p.get_x() + p.get_width() / 2, y=height+.10, s=s, ha='center')\n",
        "plt.show()"
      ],
      "metadata": {
        "id": "IVHhTiCp4XM5"
      },
      "execution_count": null,
      "outputs": []
    },
    {
      "cell_type": "code",
      "source": [
        "# speeds\n",
        "tmp = {k: round(v, 1) for k, v in sorted(tmp_speeds.items(), key=lambda item: item[1])}\n",
        "\n",
        "methods = list(tmp.keys())\n",
        "speed = list(tmp.values())\n",
        "\n",
        "loc = np.arange(len(methods)) # the label locations\n",
        "width = 0.35 # the width of the bars\n",
        "\n",
        "#fig, ax = plt.subplots()\n",
        "figsize=(4*6,4*2)\n",
        "fig, ax = plt.subplots(1, 1, sharex=False, sharey=False, figsize = figsize)\n",
        "\n",
        "ax.set_ylabel('speed')\n",
        "#ax.set_title('optimizers')\n",
        "ax.set_xticks(loc)\n",
        "ax.set_xticklabels(methods)\n",
        "pps = ax.bar(loc - width / 2, speed, width, label='')\n",
        "for p in pps:\n",
        "    height = p.get_height()\n",
        "    s = \"{}\".format(height)\n",
        "    if height >= INF : s = \"∞\"\n",
        "    ax.text(x=p.get_x() + p.get_width() / 2, y=height+.10, s=s, ha='center')\n",
        "plt.show()"
      ],
      "metadata": {
        "id": "148EQpqexz2V"
      },
      "execution_count": null,
      "outputs": []
    },
    {
      "cell_type": "code",
      "source": [
        "k = \"sag\"\n",
        "all_x, all_z, all_errors = results[k]"
      ],
      "metadata": {
        "id": "xoL2uP5ZUIrh"
      },
      "execution_count": null,
      "outputs": []
    },
    {
      "cell_type": "code",
      "source": [
        "figsize=(6*1,4*1)\n",
        "fig = plt.figure(figsize = figsize)\n",
        "ax = fig.add_subplot(111, projection='3d')\n",
        "plt.title(function_name)\n",
        "surf = ax.plot_surface(x, y, z, cmap=cm.coolwarm)\n",
        "ax.set(xlabel='x', ylabel='y', zlabel='z')\n",
        "fig.colorbar(surf, shrink=0.5, aspect=5)\n",
        "\n",
        "a = [x_[0] for x_ in all_x]\n",
        "b = [x_[1] for x_ in all_x]\n",
        "\n",
        "#ax.scatter(a, b, all_z, s=10, c='b', marker='o')\n",
        "ax.plot(a, b, all_z, c='b')\n",
        "\n",
        "plt.show()"
      ],
      "metadata": {
        "id": "koqVlLgaQty8"
      },
      "execution_count": null,
      "outputs": []
    },
    {
      "cell_type": "code",
      "source": [
        "def plot_landscape(ax, x, y, z, all_x, step_size, put_xy_label = True) :\n",
        "  \n",
        "    vmin, vmax, vlevel = 0.1, 10, 0.5\n",
        "    CS = ax.contourf(x, y, z, cmap=cm.coolwarm, levels=np.arange(vmin, vmax, vlevel))\n",
        "    if put_xy_label : ax.set(xlabel='x', ylabel='y')\n",
        "    #plt.clabel(CS, inline=1, fontsize=8)\n",
        "    a = [x_[0] for x_ in all_x]#[:500]\n",
        "    b = [x_[1] for x_ in all_x]#[:500]\n",
        "\n",
        "    #ax.scatter(a, b, s=10, c='b', marker='o')\n",
        "\n",
        "    ax.plot([a[0]], [b[0]], '-gD', markersize=12)\n",
        "    ax.text(a[0], b[0],'0')\n",
        "    ax.plot(a, b, c='b')\n",
        "    t = len(all_x)-1\n",
        "    ax.plot([a[-1]], [b[-1]], '-gP', markersize=12)\n",
        "    ax.text(a[-1], b[-1],f'{t}')\n",
        "\n",
        "    for t in range(0, n_epochs, step_size) :\n",
        "        try :\n",
        "            ax.plot([a[t]], [b[t]], '-gP', markersize=12)\n",
        "            ax.text(a[t], b[t], f'{t}')\n",
        "        except IndexError :\n",
        "            pass\n",
        "\n",
        "    # origin = [np.array(a[:-1]), np.array(b[:-1])]\n",
        "    # v1 = np.array(a[1:])\n",
        "    # v2 = np.array(b[1:])\n",
        "    # plt.quiver(*origin, v1, v2, scale=21)\n",
        "\n",
        "    #plt.legend()\n",
        "    #plt.show()"
      ],
      "metadata": {
        "id": "IqOnCr7iHPzX"
      },
      "execution_count": null,
      "outputs": []
    },
    {
      "cell_type": "code",
      "source": [
        "figsize=(6*1,4*1)\n",
        "fig = plt.figure(figsize = figsize)\n",
        "ax = fig.add_subplot(111)\n",
        "plot_landscape(ax, x, y, z, all_x, step_size=1000)"
      ],
      "metadata": {
        "id": "xqnkXyHnYKtj"
      },
      "execution_count": null,
      "outputs": []
    },
    {
      "cell_type": "code",
      "source": [
        "lb = len(all_optims)\n",
        "if lb <= 3 :\n",
        "    L, C = 1, lb\n",
        "else : \n",
        "    #C = 2\n",
        "    C = 3\n",
        "    L = lb // C + lb % C\n",
        "\n",
        "figsize=(C*6, L*4)\n",
        "fig = plt.figure(figsize = figsize)\n",
        "\n",
        "i=0\n",
        "\n",
        "for k in all_optims.keys() :\n",
        "    i+=1  \n",
        "    #ax = fig.add_subplot(int(f\"{L}{C}{i}\"))\n",
        "    ax = fig.add_subplot(L, C, i)\n",
        "    all_x, _, _ = results[k]\n",
        "    step_size = 200\n",
        "\n",
        "    s = k\n",
        "    if k == \"adam_inverse_sqrt\" : s = \"adam_inv_sqrt\"\n",
        "    if k == \"adam_cosine\"  : s = \"adam_cos\"\n",
        "    s = tmp_speeds.get(s)\n",
        "    print(s)\n",
        "    if \"Rosenbrock\" in function_name : step_size = int(s / 10)\n",
        "    elif \"Rastrigin\" in function_name : step_size = int(2 * s / 5)\n",
        "    plot_landscape(ax, x, y, z, all_x, step_size=step_size, put_xy_label=False)\n",
        "    ax.set_title(k)"
      ],
      "metadata": {
        "id": "OqbYNZcjGBsa"
      },
      "execution_count": null,
      "outputs": []
    },
    {
      "cell_type": "code",
      "source": [],
      "metadata": {
        "id": "OG2TRkJFGB6E"
      },
      "execution_count": 208,
      "outputs": []
    }
  ]
}