{
 "cells": [
  {
   "cell_type": "markdown",
   "metadata": {
    "id": "pGxmugpoEdhI"
   },
   "source": []
  },
  {
   "cell_type": "code",
   "execution_count": null,
   "metadata": {
    "id": "mMZ3OqX1Edsw"
   },
   "outputs": [],
   "source": [
    "#! git clone https://github.com/Tikquuss/sag_torch"
   ]
  },
  {
   "cell_type": "code",
   "execution_count": null,
   "metadata": {
    "id": "xBNNuD7kEl0t"
   },
   "outputs": [],
   "source": [
    "#%cd sag_torch"
   ]
  },
  {
   "cell_type": "code",
   "execution_count": 1,
   "metadata": {
    "id": "5pv6PGeREswc"
   },
   "outputs": [],
   "source": [
    "#! pip install -r requirements.txt"
   ]
  },
  {
   "cell_type": "code",
   "execution_count": 2,
   "metadata": {
    "id": "IA9iH5WrG0Tt"
   },
   "outputs": [],
   "source": [
    "import os\n",
    "\n",
    "from src.modeling import Model"
   ]
  },
  {
   "cell_type": "code",
   "execution_count": 3,
   "metadata": {
    "id": "KGRcxplZSFg3"
   },
   "outputs": [],
   "source": [
    "%load_ext tensorboard"
   ]
  },
  {
   "cell_type": "markdown",
   "metadata": {
    "id": "GZe3FR8eN6j7"
   },
   "source": [
    "# Train"
   ]
  },
  {
   "cell_type": "code",
   "execution_count": null,
   "metadata": {
    "id": "2-dfiwkVrSmu"
   },
   "outputs": [],
   "source": [
    "#! wandb login $som_key"
   ]
  },
  {
   "cell_type": "markdown",
   "metadata": {
    "id": "vue6uRmx8nDS"
   },
   "source": [
    "## cmd"
   ]
  },
  {
   "cell_type": "markdown",
   "metadata": {
    "id": "rPXguvhXDSpV"
   },
   "source": [
    "##### On run"
   ]
  },
  {
   "cell_type": "code",
   "execution_count": null,
   "metadata": {
    "id": "sGM4xbctDSIm"
   },
   "outputs": [],
   "source": [
    "! chmod +x train.sh \n",
    "! ./train.sh "
   ]
  },
  {
   "cell_type": "code",
   "execution_count": null,
   "metadata": {
    "id": "33-1ywBPSOL_"
   },
   "outputs": [],
   "source": [
    "%tensorboard --logdir /content/log_files/0/classification_tdf=80-wd=0.0-r_lr=0.001-d_lr=0.001-r_d=0.0-d_d=0.0-opt=adam/lightning_logs"
   ]
  },
  {
   "cell_type": "code",
   "execution_count": null,
   "metadata": {
    "id": "zDC_CjBcDutA"
   },
   "outputs": [],
   "source": [
    "pretrained_filename = \"/content/log_files/0/classification_tdf=80-wd=0.0-r_lr=0.001-d_lr=0.001-r_d=0.0-d_d=0.0-opt=adam/epoch=1-val_loss=5.2339.ckpt\"\n",
    "model = Model.load_from_checkpoint(pretrained_filename)"
   ]
  },
  {
   "cell_type": "code",
   "execution_count": null,
   "metadata": {
    "id": "hG1JGI32IveY"
   },
   "outputs": [],
   "source": [
    "#! rm -r /content/log_files/0"
   ]
  },
  {
   "cell_type": "markdown",
   "metadata": {
    "id": "vNrPMWndDVwM"
   },
   "source": [
    "##### Multiple run (for phase diagram)"
   ]
  },
  {
   "cell_type": "code",
   "execution_count": null,
   "metadata": {
    "id": "XNNrGVDa8qZ-"
   },
   "outputs": [],
   "source": [
    "! chmod +x train_loop.sh\n",
    "! ./train_loop.sh "
   ]
  },
  {
   "attachments": {},
   "cell_type": "markdown",
   "metadata": {
    "id": "YUJyQr3x8SOb"
   },
   "source": [
    "## Without cmd (see multiple_runs.py) "
   ]
  },
  {
   "cell_type": "code",
   "execution_count": null,
   "metadata": {
    "id": "6FA9Q0jRAUOa"
   },
   "outputs": [],
   "source": [
    "from src.utils import AttrDict\n",
    "from src.dataset import get_dataloader\n",
    "from src.trainer import train"
   ]
  },
  {
   "cell_type": "code",
   "execution_count": null,
   "metadata": {
    "id": "Jgbpjf1x8KXP"
   },
   "outputs": [],
   "source": [
    "train_pct=80\n",
    "weight_decay=0.0\n",
    "representation_lr=0.001\n",
    "decoder_lr=0.001\n",
    "representation_dropout=0.0\n",
    "decoder_dropout=0.0\n",
    "opt=\"adam\"\n",
    "\n",
    "group_name=f\"tdf={train_pct}-wd={weight_decay}-r_lr={representation_lr}-d_lr={decoder_lr}-r_d={representation_dropout}-d_d={decoder_dropout}-opt={opt}\"\n",
    "\n",
    "random_seed=0\n",
    "operator=\"+\"\n",
    "modular=False\n",
    "\n",
    "log_dir=\"../log_files\"\n",
    "\n",
    "p = 100\n",
    "task = \"classification\"\n",
    "\n",
    "params = AttrDict({\n",
    "    ### Main parameters\n",
    "    \"task\" : task,\n",
    "    \"exp_id\" : f\"{task}_{group_name}\",\n",
    "    \"log_dir\" : f\"{log_dir}/{random_seed}\",\n",
    "\n",
    "    ### Model\n",
    "    \"emb_dim\" : 256, \n",
    "    \"hidden_dim\" : 512,  \n",
    "    \"n_layers\" : 1,\n",
    "\t\"representation_dropout\" : representation_dropout,\n",
    "\t\"decoder_dropout\" : decoder_dropout,\n",
    "    \"pad_index\" : None, \n",
    "    \"p\" : p, \n",
    "\n",
    "    ### Dataset\n",
    "    \"operator\" : operator, \n",
    "    \"modular\" : modular,\n",
    "    \"train_pct\" : train_pct,\n",
    "    \"batch_size\" : 512,\n",
    "\n",
    "    ### Optimizer\n",
    "    \"optimizer\" : f\"{opt},weight_decay={weight_decay},beta1=0.9,beta2=0.99,eps=0.00000001\",\n",
    "    \"representation_lr\" : representation_lr,\n",
    "    \"decoder_lr\" : decoder_lr,\n",
    "\n",
    "    ### LR Scheduler\n",
    "    \"lr_scheduler\" : None,\n",
    "    #\"lr_scheduler\" : \"reduce_lr_on_plateau,factor=0.2,patience=20,min_lr=0.00005,mode=min,monitor=val_loss\",\n",
    "    \n",
    "    ### Training\n",
    "    \"max_epochs\" : 2, \n",
    "    \"validation_metrics\" : \"val_loss\",\n",
    "    \"checkpoint_path\" : None, \n",
    "    \"model_name\": \"\", \n",
    "    \"every_n_epochs\":1, \n",
    "    \"every_n_epochs_show\":1, \n",
    "    \"early_stopping_patience\":1e9, \n",
    "    \"save_top_k\":-1,\n",
    "\n",
    "    # Wandb \n",
    "    \"use_wandb\" : False,\n",
    "\t\"wandb_entity\" : \"grokking_ppsp\",\n",
    "\t\"wandb_project\" : f\"toy_model_grokking_op={operator}-p={p}-task={task}-mod={modular}\",\n",
    "    \"group_name\" : group_name,\n",
    "\n",
    "    \"group_vars\" : None,\n",
    "\n",
    "    ### Intrinsic Dimension Estimation\n",
    "    #\"ID_params\" : {},\n",
    "    #\"ID_params\": {\"method\" : \"mle\", \"k\":2},\n",
    "    \"ID_params\": {\"method\" : \"twonn\"},\n",
    "    \n",
    "    # Devices & Seed\n",
    "    \"accelerator\" : \"auto\",\n",
    "    \"devices\" : \"auto\",\n",
    "    \"random_seed\": random_seed,\n",
    "\n",
    "    ### Early_stopping (for grokking) : Stop the training `patience` epochs after the `metric` has reached the value `metric_threshold` \n",
    "    #\"early_stopping_grokking\" : None,\n",
    "    \"early_stopping_grokking\" : \"patience=int(1000),metric=str(val_acc),metric_threshold=float(90.0)\",\n",
    "\n",
    "})\n",
    "params[\"weight_decay\"] = weight_decay\n",
    "params[\"regression\"] = task == \"regression\"\n",
    "train_loader, val_loader, dataloader, data_infos = get_dataloader(\n",
    "    p, train_pct, regression = params.regression, operator=params.operator, \n",
    "    modular = params.modular, batch_size=params.batch_size, num_workers=2\n",
    ")\n",
    "print(data_infos)\n",
    "params[\"data_infos\"] = data_infos"
   ]
  },
  {
   "cell_type": "markdown",
   "metadata": {
    "id": "-NRGCIlA9bhY"
   },
   "source": [
    "##### On run"
   ]
  },
  {
   "cell_type": "code",
   "execution_count": null,
   "metadata": {
    "id": "sThynjEc9dub"
   },
   "outputs": [],
   "source": [
    "model, result = train(params, train_loader, val_loader)"
   ]
  },
  {
   "cell_type": "code",
   "execution_count": null,
   "metadata": {
    "id": "K9nww6oiSJ9X"
   },
   "outputs": [],
   "source": [
    "%tensorboard --logdir /content/log_files/0/classification_tdf=80-wd=0.0-r_lr=0.001-d_lr=0.001-r_d=0.0-d_d=0.0-opt=adam/lightning_logs"
   ]
  },
  {
   "cell_type": "code",
   "execution_count": null,
   "metadata": {
    "id": "6lcvELg7JDU6"
   },
   "outputs": [],
   "source": [
    "#! rm -r /content/log_files/0"
   ]
  }
 ],
 "metadata": {
  "colab": {
   "collapsed_sections": [],
   "name": "Train+Analyse&Visualize Embedding&decoder_layers_weights.ipynb",
   "private_outputs": true,
   "provenance": []
  },
  "gpuClass": "standard",
  "kernelspec": {
   "display_name": "Python 3 (ipykernel)",
   "language": "python",
   "name": "python3"
  },
  "language_info": {
   "codemirror_mode": {
    "name": "ipython",
    "version": 3
   },
   "file_extension": ".py",
   "mimetype": "text/x-python",
   "name": "python",
   "nbconvert_exporter": "python",
   "pygments_lexer": "ipython3",
   "version": "3.9.12"
  }
 },
 "nbformat": 4,
 "nbformat_minor": 1
}
